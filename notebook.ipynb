{
 "cells": [
  {
   "cell_type": "code",
   "execution_count": 1,
   "metadata": {},
   "outputs": [],
   "source": [
    "import pandas as pd \n",
    "import numpy as np \n",
    "from matplotlib import pyplot as plt\n",
    "from copy import deepcopy as dc\n",
    "\n",
    "import torch\n",
    "from torch import nn, optim\n",
    "from sklearn.preprocessing import StandardScaler, MinMaxScaler\n",
    "from torch.autograd import Variable"
   ]
  },
  {
   "cell_type": "code",
   "execution_count": 2,
   "metadata": {},
   "outputs": [],
   "source": [
    "# ambil 4 data aja dulu buat di train\n",
    "\n",
    "data716328 = pd.read_csv(\"raw_data/716328.csv\")\n",
    "data716331 = pd.read_csv(\"raw_data/716331.csv\")\n",
    "data716337 = pd.read_csv(\"raw_data/716337.csv\")\n",
    "data716339 = pd.read_csv(\"raw_data/716339.csv\")"
   ]
  },
  {
   "cell_type": "code",
   "execution_count": 3,
   "metadata": {},
   "outputs": [],
   "source": [
    "def data_with_lookback(df, n_steps):\n",
    "    df = dc(df)\n",
    "    col = df.columns\n",
    "    df.set_index('Time', inplace=True)\n",
    "    for i in range(1, n_steps+1):\n",
    "        df[f'{col[1]}(t-{i})'] = df[f'{col[1]}'].shift(i)\n",
    "        \n",
    "    df.dropna(inplace=True)\n",
    "    \n",
    "    return df"
   ]
  },
  {
   "cell_type": "code",
   "execution_count": 4,
   "metadata": {},
   "outputs": [
    {
     "data": {
      "text/plain": [
       "(34272, 34272, 34272, 34272)"
      ]
     },
     "execution_count": 4,
     "metadata": {},
     "output_type": "execute_result"
    }
   ],
   "source": [
    "len(data716328), len(data716331), len(data716337), len(data716339) # 34272"
   ]
  },
  {
   "cell_type": "code",
   "execution_count": 5,
   "metadata": {},
   "outputs": [],
   "source": [
    "INDEX_IN_A_DAY = 288\n",
    "NUMBER_OF_DAYS = 119\n",
    "\n",
    "lookback = 6\n",
    "total = INDEX_IN_A_DAY*NUMBER_OF_DAYS - 6\n",
    "test_len = int(total*0.2)\n",
    "train_len = total - test_len\n",
    "\n",
    "ss = StandardScaler()\n",
    "mm = MinMaxScaler()\n",
    "\n",
    "input_size = 5 # lookback - 1\n",
    "hidden_size = 4\n",
    "num_layers = 1\n",
    "\n",
    "modelpath = \"model/model1.pt\""
   ]
  },
  {
   "cell_type": "code",
   "execution_count": 6,
   "metadata": {},
   "outputs": [],
   "source": [
    "data_716328 = data_with_lookback(data716328, lookback)\n",
    "data_716331 = data_with_lookback(data716331, 6)\n",
    "data_716337 = data_with_lookback(data716337, 6)\n",
    "data_716339 = data_with_lookback(data716339, 6)"
   ]
  },
  {
   "cell_type": "code",
   "execution_count": 7,
   "metadata": {},
   "outputs": [],
   "source": [
    "X, y = data_716328.iloc[:, 1:], data_716328.iloc[:, 0]\n",
    "X, y  = X.to_numpy(), y.to_numpy().reshape(-1, 1)\n",
    "\n",
    "X = ss.fit_transform(X)\n",
    "y = ss.fit_transform(y)\n",
    "\n",
    "# spliting data\n",
    "X_train, X_test = X[:train_len, :], X[train_len:, :]\n",
    "y_train, y_test = y[:train_len], y[train_len:]"
   ]
  },
  {
   "cell_type": "code",
   "execution_count": null,
   "metadata": {},
   "outputs": [],
   "source": [
    "X_train.shape, X_test.shape # (27413, 1), (6853, 6)"
   ]
  },
  {
   "cell_type": "code",
   "execution_count": null,
   "metadata": {},
   "outputs": [],
   "source": [
    "y_train.shape, y_test.shape # (27413, 1), (6853, 1)"
   ]
  },
  {
   "cell_type": "code",
   "execution_count": null,
   "metadata": {},
   "outputs": [],
   "source": [
    "# tensor data\n",
    "\n",
    "X_train_tensor = "
   ]
  },
  {
   "cell_type": "code",
   "execution_count": null,
   "metadata": {},
   "outputs": [],
   "source": [
    "class LSTMPredictor(nn.Module):\n",
    "    def __init__(self, input_size, hidden_layer_size, num_stacked_layers):\n",
    "        self.input_size = input_size\n",
    "        self.hidden_layer_size = hidden_layer_size\n",
    "        self.num_stacked_layers = num_stacked_layers\n",
    "        \n",
    "        self.lstm = nn.LSTM(input_size=input_size, hidden_size=hidden_layer_size, num_layers=num_stacked_layers, batch_first=True)\n",
    "        self.fc = nn.Linear(hidden_layer_size, 1)\n",
    "    \n",
    "    def forward(self, x):\n",
    "        pass"
   ]
  }
 ],
 "metadata": {
  "kernelspec": {
   "display_name": "Python 3",
   "language": "python",
   "name": "python3"
  },
  "language_info": {
   "codemirror_mode": {
    "name": "ipython",
    "version": 3
   },
   "file_extension": ".py",
   "mimetype": "text/x-python",
   "name": "python",
   "nbconvert_exporter": "python",
   "pygments_lexer": "ipython3",
   "version": "3.11.4"
  }
 },
 "nbformat": 4,
 "nbformat_minor": 2
}
