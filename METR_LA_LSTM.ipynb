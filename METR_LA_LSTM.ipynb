{
  "cells": [
    {
      "cell_type": "markdown",
      "metadata": {
        "id": "view-in-github",
        "colab_type": "text"
      },
      "source": [
        "<a href=\"https://colab.research.google.com/github/alexchtst-01/METR-LA/blob/main/METR_LA_LSTM.ipynb\" target=\"_parent\"><img src=\"https://colab.research.google.com/assets/colab-badge.svg\" alt=\"Open In Colab\"/></a>"
      ]
    },
    {
      "cell_type": "code",
      "execution_count": 1,
      "metadata": {
        "colab": {
          "base_uri": "https://localhost:8080/"
        },
        "id": "aXp5doUHoItv",
        "outputId": "28f684e5-89be-4bcf-e6e5-d7dca6538695"
      },
      "outputs": [
        {
          "output_type": "stream",
          "name": "stdout",
          "text": [
            "Drive already mounted at /content/drive; to attempt to forcibly remount, call drive.mount(\"/content/drive\", force_remount=True).\n"
          ]
        }
      ],
      "source": [
        "from google.colab import drive\n",
        "drive.mount('/content/drive')"
      ]
    },
    {
      "cell_type": "markdown",
      "source": [
        "### Module"
      ],
      "metadata": {
        "id": "RPWy0K8mOqjM"
      }
    },
    {
      "cell_type": "code",
      "execution_count": 2,
      "metadata": {
        "id": "1HZp2P6jLhIA"
      },
      "outputs": [],
      "source": [
        "import pandas as pd\n",
        "import numpy as np\n",
        "from matplotlib import pyplot as plt\n",
        "from copy import deepcopy as dc\n",
        "\n",
        "import torch\n",
        "from torch import nn, optim\n",
        "from torch.utils.data import Dataset, DataLoader\n",
        "\n",
        "from sklearn.preprocessing import StandardScaler, MinMaxScaler\n",
        "from sklearn.model_selection import KFold"
      ]
    },
    {
      "cell_type": "markdown",
      "source": [
        "### Deeplearning Model and Function"
      ],
      "metadata": {
        "id": "mxoowEhdO1bB"
      }
    },
    {
      "cell_type": "code",
      "execution_count": 3,
      "metadata": {
        "id": "yrPAKAkzLlpM"
      },
      "outputs": [],
      "source": [
        "def data_with_lookback(df, n_steps):\n",
        "    df = dc(df)\n",
        "    col = df.columns\n",
        "    df.set_index('Time', inplace=True)\n",
        "    for i in range(1, n_steps+1):\n",
        "        df[f'{col[1]}(t-{i})'] = df[f'{col[1]}'].shift(i)\n",
        "\n",
        "    df.dropna(inplace=True)\n",
        "\n",
        "    return df"
      ]
    },
    {
      "cell_type": "code",
      "source": [
        "class TimeSeriesData(Dataset):\n",
        "    def __init__(self, X, y):\n",
        "        super().__init__()\n",
        "        self.X = torch.reshape(torch.tensor(X), (X.shape[0], X.shape[1]))\n",
        "        self.y = torch.reshape(torch.tensor(y), (y.shape[0], y.shape[1]))\n",
        "\n",
        "    def __getitem__(self, index):\n",
        "        return self.X[index], self.y[index]\n",
        "\n",
        "    def __len__(self):\n",
        "        return len(self.X)"
      ],
      "metadata": {
        "id": "saT6QtY9imGr"
      },
      "execution_count": 4,
      "outputs": []
    },
    {
      "cell_type": "code",
      "execution_count": 5,
      "metadata": {
        "id": "ojeaLUbMMZNg"
      },
      "outputs": [],
      "source": [
        "class CustomLSTM(nn.Module):\n",
        "    def __init__(self, input_size, hidden_size, num_layers, output_size):\n",
        "        super(CustomLSTM, self).__init__()\n",
        "        self.hidden_size = hidden_size\n",
        "        self.num_layers = num_layers\n",
        "        self.lstm = nn.LSTM(input_size, hidden_size, num_layers, batch_first=True)\n",
        "        self.fc = nn.Linear(hidden_size, output_size)\n",
        "\n",
        "    def forward(self, x):\n",
        "        h0 = torch.zeros(self.num_layers, x.size(0), self.hidden_size).requires_grad_() #.to(device)\n",
        "        c0 = torch.zeros(self.num_layers, x.size(0), self.hidden_size).requires_grad_() #.to(device)\n",
        "\n",
        "        out, _ = self.lstm(x, (h0.detach(), c0.detach()))\n",
        "        out = self.fc(out[:, -1, :])\n",
        "        return out"
      ]
    },
    {
      "cell_type": "code",
      "source": [
        "class GeneralLSTM(nn.Module):\n",
        "  def __init__(self, input_size, hidden_size, num_layers):\n",
        "    super(GeneralLSTM, self).__init__()\n",
        "    self.lstm = nn.LSTM(input_size, hidden_size, num_layers)\n",
        "\n",
        "  def forward(self, x):\n",
        "    out, _ = self.lstm(x)\n",
        "    return out[:, -1, :]"
      ],
      "metadata": {
        "id": "vvAjFscok15_"
      },
      "execution_count": 6,
      "outputs": []
    },
    {
      "cell_type": "markdown",
      "source": [
        "### Data Preparartion"
      ],
      "metadata": {
        "id": "ztVaTwOpO9iu"
      }
    },
    {
      "cell_type": "code",
      "execution_count": 7,
      "metadata": {
        "id": "UhY6Vp3VLniR",
        "colab": {
          "base_uri": "https://localhost:8080/",
          "height": 35
        },
        "outputId": "b9d9da36-d64a-43c4-9f39-27780457d9c8"
      },
      "outputs": [
        {
          "output_type": "execute_result",
          "data": {
            "text/plain": [
              "'cpu'"
            ],
            "application/vnd.google.colaboratory.intrinsic+json": {
              "type": "string"
            }
          },
          "metadata": {},
          "execution_count": 7
        }
      ],
      "source": [
        "INDEX_IN_A_DAY = 288\n",
        "NUMBER_OF_DAYS = 119\n",
        "\n",
        "lookback = 6\n",
        "total = INDEX_IN_A_DAY*NUMBER_OF_DAYS - 6\n",
        "test_len = int(total*0.2)\n",
        "train_len = total - test_len\n",
        "\n",
        "ss = StandardScaler()\n",
        "mm = MinMaxScaler()\n",
        "kf = KFold(n_splits=6, shuffle=True, random_state=42)\n",
        "\n",
        "device = \"cuda\" if torch.cuda.is_available() else \"cpu\"\n",
        "modelpath = \"/content/drive/MyDrive/model/METR-LA/model3.pt\"\n",
        "graphpath = \"/content/drive/MyDrive/model/METR-LA/GraphResult\"\n",
        "device"
      ]
    },
    {
      "cell_type": "code",
      "execution_count": 8,
      "metadata": {
        "id": "qFw7uOF8Lx5j"
      },
      "outputs": [],
      "source": [
        "data716328_path = \"/content/drive/MyDrive/data/METR-LA/raw_data/716328.csv\"\n",
        "data716331_path = \"/content/drive/MyDrive/data/METR-LA/raw_data/716331.csv\"\n",
        "data716337_path = \"/content/drive/MyDrive/data/METR-LA/raw_data/716337.csv\"\n",
        "data716339_path = \"/content/drive/MyDrive/data/METR-LA/raw_data/716339.csv\"\n",
        "\n",
        "data716328 = pd.read_csv(data716328_path)\n",
        "data716331 = pd.read_csv(data716331_path)\n",
        "data716337 = pd.read_csv(data716337_path)\n",
        "data716339 = pd.read_csv(data716339_path)"
      ]
    },
    {
      "cell_type": "code",
      "execution_count": 9,
      "metadata": {
        "id": "GanhECblMSOI"
      },
      "outputs": [],
      "source": [
        "data = data_with_lookback(data716328, lookback)"
      ]
    },
    {
      "cell_type": "code",
      "execution_count": null,
      "metadata": {
        "id": "CtE3mDxNMU0w"
      },
      "outputs": [],
      "source": [
        "X, y = data.iloc[:, 1:], data.iloc[:, 0]\n",
        "X, y  = X.to_numpy(), y.to_numpy().reshape(-1, 1)\n",
        "\n",
        "# normalize data\n",
        "X = ss.fit_transform(X)\n",
        "y = mm.fit_transform(y)\n",
        "\n",
        "# spliting data\n",
        "X_train, X_test = X[:train_len, :], X[train_len:, :]\n",
        "y_train, y_test = y[:train_len], y[train_len:]\n",
        "\n",
        "mseArray = []\n",
        "stdArray = []"
      ]
    },
    {
      "cell_type": "code",
      "source": [
        "X_train.shape"
      ],
      "metadata": {
        "colab": {
          "base_uri": "https://localhost:8080/"
        },
        "id": "6Tie8patuB3T",
        "outputId": "f2af2290-71c1-4368-88c2-bb35f1608952"
      },
      "execution_count": 11,
      "outputs": [
        {
          "output_type": "execute_result",
          "data": {
            "text/plain": [
              "(27413, 6)"
            ]
          },
          "metadata": {},
          "execution_count": 11
        }
      ]
    },
    {
      "cell_type": "markdown",
      "source": [
        "## Training Model"
      ],
      "metadata": {
        "id": "_AnfpdFKPNS2"
      }
    },
    {
      "cell_type": "code",
      "execution_count": 12,
      "metadata": {
        "id": "lyvM_nKnMbb8"
      },
      "outputs": [],
      "source": [
        "LEARNING_RATE = 0.005\n",
        "EPOCHS = 10\n",
        "BACTH_SIZE = INDEX_IN_A_DAY\n",
        "\n",
        "input_size = 6\n",
        "hidden_size = 5\n",
        "num_layers = 2\n",
        "output_size = 1"
      ]
    },
    {
      "cell_type": "markdown",
      "source": [
        "### General Model"
      ],
      "metadata": {
        "id": "5lw9PCEIPdwE"
      }
    },
    {
      "cell_type": "code",
      "source": [
        "for fold, (train_idx, val_idx) in enumerate(kf.split(X_train)):\n",
        "  train_error_store = []\n",
        "  test_error_store = []\n",
        "\n",
        "  X_train_fold, X_val_fold = X_train[train_idx], X_train[val_idx]\n",
        "  y_train_fold, y_val_fold = y_train[train_idx], y_train[val_idx]\n",
        "\n",
        "  train_dataset = TimeSeriesData(X_train_fold, y_train_fold)\n",
        "  test_dataset = TimeSeriesData(X_val_fold, y_val_fold)\n",
        "\n",
        "  train_loader = DataLoader(train_dataset)\n",
        "  test_loader = DataLoader(test_dataset)\n",
        "\n",
        "  model_general = GeneralLSTM(input_size=input_size, num_layers=num_layers, hidden_size=output_size)\n",
        "  optimizer = optim.Adam(model_general.parameters(), lr=LEARNING_RATE)\n",
        "  criterion = nn.MSELoss()\n",
        "\n",
        "  for epoch in range(EPOCHS):\n",
        "    model_general.train(True)\n",
        "    train_running_loss = 0.0\n",
        "    for idx, data in enumerate(train_loader):\n",
        "        seq = data[0].float() #.to(device)\n",
        "        out = data[1].float() #.to(device)\n",
        "        optimizer.zero_grad()\n",
        "        pred = model_general(seq.unsqueeze(0))\n",
        "        loss = criterion(pred, out)\n",
        "        train_running_loss += loss.item()\n",
        "        loss.backward()\n",
        "        optimizer.step()\n",
        "\n",
        "    train_error_store.append(train_running_loss / (idx+1))\n",
        "\n",
        "    model_general.eval()\n",
        "    eval_running_loss = 0.0\n",
        "    with torch.no_grad():\n",
        "        for idx, data in enumerate(test_loader):\n",
        "            seq = data[0].float() #.to(device)\n",
        "            out = data[1].float() #.to(device)\n",
        "            pred = model_general(seq.unsqueeze(0))\n",
        "            loss = criterion(pred, out)\n",
        "            eval_running_loss += loss.item()\n",
        "        test_error_store.append(eval_running_loss / (idx+1))\n",
        "\n",
        "    print(f\"in folds: {fold+1} Epoch: {epoch+1}\")\n",
        "    print(f\"train loss: {train_running_loss\")\n",
        "    print(f\"test loss: {eval_running_loss}\")\n",
        "  predictions = []\n",
        "  act_val = []\n",
        "  for idx, data in enumerate(test_loader):\n",
        "    with torch.no_grad():\n",
        "        seq = data[0].float() #.to(device)\n",
        "        pred = model_general(seq.unsqueeze(0))\n",
        "        act_val.append(data[1].float().cpu().detach().numpy()[0])\n",
        "        predictions.append(pred.cpu().detach().numpy()[0])\n",
        "\n",
        "  predictions_inverse_scale = mm.inverse_transform(predictions)\n",
        "  actual_value = mm.inverse_transform(act_val)\n",
        "\n",
        "  fig, ax = plt.subplots(1, 2, figsize=(12, 6))\n",
        "  fig.suptitle(f\"{fold+1} model training\")\n",
        "\n",
        "  ax[0].set_title(\"training & validation loss\")\n",
        "  ax[0].plot(train_error_store, label=\"train error\")\n",
        "  ax[0].plot(test_error_store, label=\"test error\")\n",
        "\n",
        "  ax[1].set_title(\"prediction & actual graph\")\n",
        "  ax[1].plot(predictions_inverse_scale, lable=\"prediction\")\n",
        "  ax[1].plot(actual_value, lable=\"actual value\")"
      ],
      "metadata": {
        "id": "QB8zwIRcKEeW"
      },
      "execution_count": null,
      "outputs": []
    },
    {
      "cell_type": "markdown",
      "source": [
        "### Custom Model"
      ],
      "metadata": {
        "id": "yoK076YGPXaC"
      }
    },
    {
      "cell_type": "code",
      "source": [
        "for fold, (train_idx, val_idx) in enumerate(kf.split(X_train)):\n",
        "  train_error_store = []\n",
        "  test_error_store = []\n",
        "\n",
        "  X_train_fold, X_val_fold = X_train[train_idx], X_train[val_idx]\n",
        "  y_train_fold, y_val_fold = y_train[train_idx], y_train[val_idx]\n",
        "\n",
        "  train_dataset = TimeSeriesData(X_train_fold, y_train_fold)\n",
        "  test_dataset = TimeSeriesData(X_val_fold, y_val_fold)\n",
        "\n",
        "  train_loader = DataLoader(train_dataset)\n",
        "  test_loader = DataLoader(test_dataset)\n",
        "\n",
        "  model = CustomLSTM(input_size, hidden_size, num_layers, output_size) #.to(device)\n",
        "  optimizer = optim.Adam(model.parameters(), lr=LEARNING_RATE)\n",
        "  criterion = nn.MSELoss()\n",
        "\n",
        "  for epoch in range(EPOCHS):\n",
        "    model.train(True)\n",
        "    train_running_loss = 0.0\n",
        "    for idx, data in enumerate(train_loader):\n",
        "        seq = data[0].float() #.to(device)\n",
        "        out = data[1].float() #.to(device)\n",
        "        optimizer.zero_grad()\n",
        "        pred = model(seq.unsqueeze(0))\n",
        "        loss = criterion(pred, out)\n",
        "        train_running_loss += loss.item()\n",
        "        loss.backward()\n",
        "        optimizer.step()\n",
        "\n",
        "    train_error_store.append(train_running_loss / (idx+1))\n",
        "\n",
        "    model.eval()\n",
        "    eval_running_loss = 0.0\n",
        "    with torch.no_grad():\n",
        "        for idx, data in enumerate(test_loader):\n",
        "            seq = data[0].float() #.to(device)\n",
        "            out = data[1].float() #.to(device)\n",
        "            pred = model(seq.unsqueeze(0))\n",
        "            loss = criterion(pred, out)\n",
        "            eval_running_loss += loss.item()\n",
        "        test_error_store.append(eval_running_loss / (idx+1))\n",
        "\n",
        "    print(f\"Epoch: {epoch+1}\")\n",
        "    print(f\"train loss: {train_running_loss}\")\n",
        "    print(f\"test loss: {eval_running_loss}\")\n",
        "\n",
        "  predictions = []\n",
        "  act_val = []\n",
        "  for idx, data in enumerate(train_loader):\n",
        "    with torch.no_grad():\n",
        "        seq = data[0].float() #.to(device)\n",
        "        pred = model(seq.unsqueeze(0))\n",
        "        act_val.append(data[1].float().cpu().detach().numpy()[0])\n",
        "        predictions.append(pred.cpu().detach().numpy()[0])\n",
        "\n",
        "  predictions_inverse_scale = mm.inverse_transform(predictions)\n",
        "  actual_value = mm.inverse_transform(act_val)\n",
        "\n",
        "  fig, ax = plt.subplots(1, 2, figsize=(12, 6))\n",
        "  fig.suptitle(f\"{fold+1} model training\")\n",
        "\n",
        "  ax[0].set_title(\"training & validation loss\")\n",
        "  ax[0].plot(train_error_store, label=\"train error\")\n",
        "  ax[0].plot(test_error_store, label=\"test error\")\n",
        "\n",
        "  ax[1].set_title(\"prediction & actual graph\")\n",
        "  ax[1].plot(predictions_inverse_scale, lable=\"prediction\")\n",
        "  ax[1].plot(actual_value, lable=\"actual value\")"
      ],
      "metadata": {
        "id": "dL3FeYriPhC7"
      },
      "execution_count": null,
      "outputs": []
    }
  ],
  "metadata": {
    "colab": {
      "provenance": [],
      "authorship_tag": "ABX9TyPaRu6TLxN5YY52Lx4SC5Vr",
      "include_colab_link": true
    },
    "kernelspec": {
      "display_name": "Python 3",
      "name": "python3"
    },
    "language_info": {
      "name": "python"
    }
  },
  "nbformat": 4,
  "nbformat_minor": 0
}